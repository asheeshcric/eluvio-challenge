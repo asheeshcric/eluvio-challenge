{
 "cells": [
  {
   "cell_type": "markdown",
   "metadata": {},
   "source": [
    "# Data Processing Pipeline"
   ]
  },
  {
   "cell_type": "code",
   "execution_count": 1,
   "metadata": {},
   "outputs": [],
   "source": [
    "from dataset import NewsData"
   ]
  },
  {
   "cell_type": "code",
   "execution_count": 2,
   "metadata": {},
   "outputs": [],
   "source": [
    "dataset = NewsData(data_path='data/Eluvio_DS_Challenge.csv', votes_threshold=10)"
   ]
  },
  {
   "cell_type": "code",
   "execution_count": 3,
   "metadata": {},
   "outputs": [
    {
     "data": {
      "text/plain": [
       "('Scores killed in Pakistan clashes', 0)"
      ]
     },
     "execution_count": 3,
     "metadata": {},
     "output_type": "execute_result"
    }
   ],
   "source": [
    "next(iter(dataset))"
   ]
  },
  {
   "cell_type": "code",
   "execution_count": 4,
   "metadata": {},
   "outputs": [
    {
     "data": {
      "text/plain": [
       "('Palestinian wielding knife shot dead in West Bank: Israel police', 0)"
      ]
     },
     "execution_count": 4,
     "metadata": {},
     "output_type": "execute_result"
    }
   ],
   "source": [
    "dataset[509235]"
   ]
  },
  {
   "cell_type": "code",
   "execution_count": 5,
   "metadata": {},
   "outputs": [
    {
     "data": {
      "text/plain": [
       "509236"
      ]
     },
     "execution_count": 5,
     "metadata": {},
     "output_type": "execute_result"
    }
   ],
   "source": [
    "len(dataset)"
   ]
  },
  {
   "cell_type": "code",
   "execution_count": 6,
   "metadata": {},
   "outputs": [
    {
     "name": "stderr",
     "output_type": "stream",
     "text": [
      "100%|██████████| 509236/509236 [00:14<00:00, 34430.66it/s]\n"
     ]
    }
   ],
   "source": [
    "from torchtext.data.utils import get_tokenizer\n",
    "from collections import Counter\n",
    "from torchtext.vocab import Vocab\n",
    "from tqdm import tqdm\n",
    "\n",
    "tokenizer = get_tokenizer('basic_english')\n",
    "counter = Counter()\n",
    "for title, label in tqdm(dataset):\n",
    "    counter.update(tokenizer(title))\n",
    "    \n",
    "vocab = Vocab(counter, min_freq=1)"
   ]
  },
  {
   "cell_type": "markdown",
   "metadata": {},
   "source": [
    "- Here, the vocabulary block converts a list of tokens into integers"
   ]
  },
  {
   "cell_type": "code",
   "execution_count": 9,
   "metadata": {},
   "outputs": [
    {
     "data": {
      "text/plain": [
       "[27, 108, 973, 3812]"
      ]
     },
     "execution_count": 9,
     "metadata": {},
     "output_type": "execute_result"
    }
   ],
   "source": [
    "[vocab[token] for token in ['us', 'say', 'here', 'example']]"
   ]
  },
  {
   "cell_type": "markdown",
   "metadata": {},
   "source": [
    "- Prepare the text processing pipeline with the tokenizer and vocabulary \n",
    "- The text and label pipelines will be used to process the raw data strings from the dataset iterators"
   ]
  },
  {
   "cell_type": "code",
   "execution_count": 10,
   "metadata": {},
   "outputs": [],
   "source": [
    "text_pipeline = lambda x: [vocab[token] for token in tokenizer(x)]\n",
    "label_pipeline = lambda x: int(x)"
   ]
  },
  {
   "cell_type": "code",
   "execution_count": 11,
   "metadata": {},
   "outputs": [
    {
     "data": {
      "text/plain": [
       "[94, 13, 33, 3812]"
      ]
     },
     "execution_count": 11,
     "metadata": {},
     "output_type": "execute_result"
    }
   ],
   "source": [
    "text_pipeline('this is an example')"
   ]
  },
  {
   "cell_type": "code",
   "execution_count": 15,
   "metadata": {},
   "outputs": [
    {
     "data": {
      "text/plain": [
       "device(type='cuda')"
      ]
     },
     "execution_count": 15,
     "metadata": {},
     "output_type": "execute_result"
    }
   ],
   "source": [
    "import torch\n",
    "from torch.utils.data import DataLoader\n",
    "\n",
    "device = torch.device('cuda' if torch.cuda.is_available() else 'cpu')\n",
    "device"
   ]
  },
  {
   "cell_type": "code",
   "execution_count": 23,
   "metadata": {},
   "outputs": [],
   "source": [
    "def collate_batch(batch):\n",
    "    label_list, text_list, offsets = [], [], [0]\n",
    "    for _text, _label in batch:\n",
    "        label_list.append(label_pipeline(_label))\n",
    "        processed_text = torch.tensor(text_pipeline(_text), dtype=torch.int64)\n",
    "        text_list.append(processed_text)\n",
    "        offsets.append(processed_text.size(0))\n",
    "        \n",
    "    label_list = torch.tensor(label_list, dtype=torch.int64)\n",
    "    offsets = torch.tensor(offsets[:-1]).cumsum(dim=0)\n",
    "    text_list = torch.cat(text_list)\n",
    "    return text_list.to(device), label_list.to(device), offsets.to(device)"
   ]
  },
  {
   "cell_type": "code",
   "execution_count": 24,
   "metadata": {},
   "outputs": [],
   "source": [
    "train_iter = NewsData(data_path='data/Eluvio_DS_Challenge.csv', votes_threshold=10)"
   ]
  },
  {
   "cell_type": "code",
   "execution_count": 25,
   "metadata": {},
   "outputs": [],
   "source": [
    "dataloader = DataLoader(train_iter, batch_size=8, shuffle=False, collate_fn=collate_batch)"
   ]
  },
  {
   "cell_type": "markdown",
   "metadata": {},
   "source": [
    "# Model"
   ]
  },
  {
   "cell_type": "code",
   "execution_count": 26,
   "metadata": {},
   "outputs": [],
   "source": [
    "from torch import nn\n",
    "\n",
    "class TextClassificationModel(nn.Module):\n",
    "\n",
    "    def __init__(self, vocab_size, embed_dim, num_class):\n",
    "        super(TextClassificationModel, self).__init__()\n",
    "        self.embedding = nn.EmbeddingBag(vocab_size, embed_dim, sparse=True)\n",
    "        self.fc = nn.Linear(embed_dim, num_class)\n",
    "        self.init_weights()\n",
    "\n",
    "    def init_weights(self):\n",
    "        initrange = 0.5\n",
    "        self.embedding.weight.data.uniform_(-initrange, initrange)\n",
    "        self.fc.weight.data.uniform_(-initrange, initrange)\n",
    "        self.fc.bias.data.zero_()\n",
    "\n",
    "    def forward(self, text, offsets):\n",
    "        embedded = self.embedding(text, offsets)\n",
    "        return self.fc(embedded)"
   ]
  },
  {
   "cell_type": "code",
   "execution_count": 27,
   "metadata": {},
   "outputs": [],
   "source": [
    "num_class = 2\n",
    "vocab_size = len(vocab)\n",
    "emsize = 64\n",
    "model = TextClassificationModel(vocab_size, emsize, num_class).to(device)"
   ]
  },
  {
   "cell_type": "code",
   "execution_count": 28,
   "metadata": {},
   "outputs": [],
   "source": [
    "import time\n",
    "\n",
    "def train(dataloader):\n",
    "    model.train()\n",
    "    total_acc, total_count = 0, 0\n",
    "    log_interval = 500\n",
    "    start_time = time.time()\n",
    "\n",
    "    for idx, (text, label, offsets) in enumerate(dataloader):\n",
    "        optimizer.zero_grad()\n",
    "        predited_label = model(text, offsets)\n",
    "        loss = criterion(predited_label, label)\n",
    "        loss.backward()\n",
    "        torch.nn.utils.clip_grad_norm_(model.parameters(), 0.1)\n",
    "        optimizer.step()\n",
    "        total_acc += (predited_label.argmax(1) == label).sum().item()\n",
    "        total_count += label.size(0)\n",
    "        if idx % log_interval == 0 and idx > 0:\n",
    "            elapsed = time.time() - start_time\n",
    "            print('| epoch {:3d} | {:5d}/{:5d} batches '\n",
    "                  '| accuracy {:8.3f}'.format(epoch, idx, len(dataloader),\n",
    "                                              total_acc/total_count))\n",
    "            total_acc, total_count = 0, 0\n",
    "            start_time = time.time()\n",
    "\n",
    "def evaluate(dataloader):\n",
    "    model.eval()\n",
    "    total_acc, total_count = 0, 0\n",
    "\n",
    "    with torch.no_grad():\n",
    "        for idx, (text, label, offsets) in enumerate(dataloader):\n",
    "            predited_label = model(text, offsets)\n",
    "            loss = criterion(predited_label, label)\n",
    "            total_acc += (predited_label.argmax(1) == label).sum().item()\n",
    "            total_count += label.size(0)\n",
    "    return total_acc/total_count"
   ]
  },
  {
   "cell_type": "code",
   "execution_count": 29,
   "metadata": {},
   "outputs": [
    {
     "name": "stdout",
     "output_type": "stream",
     "text": [
      "| epoch   1 |   500/ 6366 batches | accuracy    0.651\n",
      "| epoch   1 |  1000/ 6366 batches | accuracy    0.653\n",
      "| epoch   1 |  1500/ 6366 batches | accuracy    0.653\n",
      "| epoch   1 |  2000/ 6366 batches | accuracy    0.650\n",
      "| epoch   1 |  2500/ 6366 batches | accuracy    0.652\n",
      "| epoch   1 |  3000/ 6366 batches | accuracy    0.655\n",
      "| epoch   1 |  3500/ 6366 batches | accuracy    0.655\n",
      "| epoch   1 |  4000/ 6366 batches | accuracy    0.654\n",
      "| epoch   1 |  4500/ 6366 batches | accuracy    0.655\n",
      "| epoch   1 |  5000/ 6366 batches | accuracy    0.657\n",
      "| epoch   1 |  5500/ 6366 batches | accuracy    0.659\n",
      "| epoch   1 |  6000/ 6366 batches | accuracy    0.663\n",
      "-----------------------------------------------------------\n",
      "| end of epoch   1 | time: 25.42s | valid accuracy    0.667 \n",
      "-----------------------------------------------------------\n",
      "| epoch   2 |   500/ 6366 batches | accuracy    0.664\n",
      "| epoch   2 |  1000/ 6366 batches | accuracy    0.655\n",
      "| epoch   2 |  1500/ 6366 batches | accuracy    0.659\n",
      "| epoch   2 |  2000/ 6366 batches | accuracy    0.661\n",
      "| epoch   2 |  2500/ 6366 batches | accuracy    0.657\n",
      "| epoch   2 |  3000/ 6366 batches | accuracy    0.666\n",
      "| epoch   2 |  3500/ 6366 batches | accuracy    0.659\n",
      "| epoch   2 |  4000/ 6366 batches | accuracy    0.664\n",
      "| epoch   2 |  4500/ 6366 batches | accuracy    0.664\n",
      "| epoch   2 |  5000/ 6366 batches | accuracy    0.661\n",
      "| epoch   2 |  5500/ 6366 batches | accuracy    0.662\n",
      "| epoch   2 |  6000/ 6366 batches | accuracy    0.663\n",
      "-----------------------------------------------------------\n",
      "| end of epoch   2 | time: 26.49s | valid accuracy    0.661 \n",
      "-----------------------------------------------------------\n",
      "| epoch   3 |   500/ 6366 batches | accuracy    0.674\n",
      "| epoch   3 |  1000/ 6366 batches | accuracy    0.671\n",
      "| epoch   3 |  1500/ 6366 batches | accuracy    0.669\n",
      "| epoch   3 |  2000/ 6366 batches | accuracy    0.680\n",
      "| epoch   3 |  2500/ 6366 batches | accuracy    0.678\n",
      "| epoch   3 |  3000/ 6366 batches | accuracy    0.681\n",
      "| epoch   3 |  3500/ 6366 batches | accuracy    0.678\n",
      "| epoch   3 |  4000/ 6366 batches | accuracy    0.678\n",
      "| epoch   3 |  4500/ 6366 batches | accuracy    0.680\n",
      "| epoch   3 |  5000/ 6366 batches | accuracy    0.680\n",
      "| epoch   3 |  5500/ 6366 batches | accuracy    0.673\n",
      "| epoch   3 |  6000/ 6366 batches | accuracy    0.679\n",
      "-----------------------------------------------------------\n",
      "| end of epoch   3 | time: 27.70s | valid accuracy    0.671 \n",
      "-----------------------------------------------------------\n",
      "| epoch   4 |   500/ 6366 batches | accuracy    0.678\n",
      "| epoch   4 |  1000/ 6366 batches | accuracy    0.679\n",
      "| epoch   4 |  1500/ 6366 batches | accuracy    0.674\n",
      "| epoch   4 |  2000/ 6366 batches | accuracy    0.678\n",
      "| epoch   4 |  2500/ 6366 batches | accuracy    0.674\n",
      "| epoch   4 |  3000/ 6366 batches | accuracy    0.679\n",
      "| epoch   4 |  3500/ 6366 batches | accuracy    0.683\n",
      "| epoch   4 |  4000/ 6366 batches | accuracy    0.670\n",
      "| epoch   4 |  4500/ 6366 batches | accuracy    0.679\n",
      "| epoch   4 |  5000/ 6366 batches | accuracy    0.677\n",
      "| epoch   4 |  5500/ 6366 batches | accuracy    0.682\n",
      "| epoch   4 |  6000/ 6366 batches | accuracy    0.676\n",
      "-----------------------------------------------------------\n",
      "| end of epoch   4 | time: 28.08s | valid accuracy    0.670 \n",
      "-----------------------------------------------------------\n",
      "| epoch   5 |   500/ 6366 batches | accuracy    0.681\n",
      "| epoch   5 |  1000/ 6366 batches | accuracy    0.678\n",
      "| epoch   5 |  1500/ 6366 batches | accuracy    0.676\n",
      "| epoch   5 |  2000/ 6366 batches | accuracy    0.686\n",
      "| epoch   5 |  2500/ 6366 batches | accuracy    0.678\n",
      "| epoch   5 |  3000/ 6366 batches | accuracy    0.678\n",
      "| epoch   5 |  3500/ 6366 batches | accuracy    0.682\n",
      "| epoch   5 |  4000/ 6366 batches | accuracy    0.681\n",
      "| epoch   5 |  4500/ 6366 batches | accuracy    0.679\n",
      "| epoch   5 |  5000/ 6366 batches | accuracy    0.681\n",
      "| epoch   5 |  5500/ 6366 batches | accuracy    0.677\n",
      "| epoch   5 |  6000/ 6366 batches | accuracy    0.676\n",
      "-----------------------------------------------------------\n",
      "| end of epoch   5 | time: 25.41s | valid accuracy    0.671 \n",
      "-----------------------------------------------------------\n",
      "| epoch   6 |   500/ 6366 batches | accuracy    0.682\n",
      "| epoch   6 |  1000/ 6366 batches | accuracy    0.685\n",
      "| epoch   6 |  1500/ 6366 batches | accuracy    0.682\n",
      "| epoch   6 |  2000/ 6366 batches | accuracy    0.677\n",
      "| epoch   6 |  2500/ 6366 batches | accuracy    0.679\n",
      "| epoch   6 |  3000/ 6366 batches | accuracy    0.676\n",
      "| epoch   6 |  3500/ 6366 batches | accuracy    0.682\n",
      "| epoch   6 |  4000/ 6366 batches | accuracy    0.681\n",
      "| epoch   6 |  4500/ 6366 batches | accuracy    0.679\n",
      "| epoch   6 |  5000/ 6366 batches | accuracy    0.679\n",
      "| epoch   6 |  5500/ 6366 batches | accuracy    0.674\n",
      "| epoch   6 |  6000/ 6366 batches | accuracy    0.675\n",
      "-----------------------------------------------------------\n",
      "| end of epoch   6 | time: 25.25s | valid accuracy    0.671 \n",
      "-----------------------------------------------------------\n",
      "| epoch   7 |   500/ 6366 batches | accuracy    0.679\n",
      "| epoch   7 |  1000/ 6366 batches | accuracy    0.677\n",
      "| epoch   7 |  1500/ 6366 batches | accuracy    0.677\n",
      "| epoch   7 |  2000/ 6366 batches | accuracy    0.682\n",
      "| epoch   7 |  2500/ 6366 batches | accuracy    0.679\n",
      "| epoch   7 |  3000/ 6366 batches | accuracy    0.679\n",
      "| epoch   7 |  3500/ 6366 batches | accuracy    0.679\n",
      "| epoch   7 |  4000/ 6366 batches | accuracy    0.683\n",
      "| epoch   7 |  4500/ 6366 batches | accuracy    0.676\n",
      "| epoch   7 |  5000/ 6366 batches | accuracy    0.684\n",
      "| epoch   7 |  5500/ 6366 batches | accuracy    0.678\n",
      "| epoch   7 |  6000/ 6366 batches | accuracy    0.682\n",
      "-----------------------------------------------------------\n",
      "| end of epoch   7 | time: 25.12s | valid accuracy    0.671 \n",
      "-----------------------------------------------------------\n",
      "| epoch   8 |   500/ 6366 batches | accuracy    0.679\n",
      "| epoch   8 |  1000/ 6366 batches | accuracy    0.677\n",
      "| epoch   8 |  1500/ 6366 batches | accuracy    0.681\n",
      "| epoch   8 |  2000/ 6366 batches | accuracy    0.679\n",
      "| epoch   8 |  2500/ 6366 batches | accuracy    0.684\n",
      "| epoch   8 |  3000/ 6366 batches | accuracy    0.679\n",
      "| epoch   8 |  3500/ 6366 batches | accuracy    0.679\n",
      "| epoch   8 |  4000/ 6366 batches | accuracy    0.677\n",
      "| epoch   8 |  4500/ 6366 batches | accuracy    0.678\n",
      "| epoch   8 |  5000/ 6366 batches | accuracy    0.680\n",
      "| epoch   8 |  5500/ 6366 batches | accuracy    0.680\n",
      "| epoch   8 |  6000/ 6366 batches | accuracy    0.679\n",
      "-----------------------------------------------------------\n",
      "| end of epoch   8 | time: 28.45s | valid accuracy    0.671 \n",
      "-----------------------------------------------------------\n",
      "| epoch   9 |   500/ 6366 batches | accuracy    0.679\n",
      "| epoch   9 |  1000/ 6366 batches | accuracy    0.679\n",
      "| epoch   9 |  1500/ 6366 batches | accuracy    0.685\n",
      "| epoch   9 |  2000/ 6366 batches | accuracy    0.677\n",
      "| epoch   9 |  2500/ 6366 batches | accuracy    0.679\n",
      "| epoch   9 |  3000/ 6366 batches | accuracy    0.680\n",
      "| epoch   9 |  3500/ 6366 batches | accuracy    0.678\n",
      "| epoch   9 |  4000/ 6366 batches | accuracy    0.678\n",
      "| epoch   9 |  4500/ 6366 batches | accuracy    0.679\n",
      "| epoch   9 |  5000/ 6366 batches | accuracy    0.678\n",
      "| epoch   9 |  5500/ 6366 batches | accuracy    0.682\n",
      "| epoch   9 |  6000/ 6366 batches | accuracy    0.676\n",
      "-----------------------------------------------------------\n",
      "| end of epoch   9 | time: 27.10s | valid accuracy    0.671 \n",
      "-----------------------------------------------------------\n",
      "| epoch  10 |   500/ 6366 batches | accuracy    0.681\n",
      "| epoch  10 |  1000/ 6366 batches | accuracy    0.684\n",
      "| epoch  10 |  1500/ 6366 batches | accuracy    0.680\n",
      "| epoch  10 |  2000/ 6366 batches | accuracy    0.679\n",
      "| epoch  10 |  2500/ 6366 batches | accuracy    0.680\n",
      "| epoch  10 |  3000/ 6366 batches | accuracy    0.678\n",
      "| epoch  10 |  3500/ 6366 batches | accuracy    0.673\n",
      "| epoch  10 |  4000/ 6366 batches | accuracy    0.677\n",
      "| epoch  10 |  4500/ 6366 batches | accuracy    0.678\n",
      "| epoch  10 |  5000/ 6366 batches | accuracy    0.682\n",
      "| epoch  10 |  5500/ 6366 batches | accuracy    0.680\n",
      "| epoch  10 |  6000/ 6366 batches | accuracy    0.680\n",
      "-----------------------------------------------------------\n",
      "| end of epoch  10 | time: 28.14s | valid accuracy    0.671 \n",
      "-----------------------------------------------------------\n"
     ]
    }
   ],
   "source": [
    "from torch.utils.data.dataset import random_split\n",
    "# Hyperparameters\n",
    "EPOCHS = 10 # epoch\n",
    "LR = 5  # learning rate\n",
    "BATCH_SIZE = 64 # batch size for training\n",
    "\n",
    "criterion = torch.nn.CrossEntropyLoss()\n",
    "optimizer = torch.optim.SGD(model.parameters(), lr=LR)\n",
    "scheduler = torch.optim.lr_scheduler.StepLR(optimizer, 1.0, gamma=0.1)\n",
    "total_accu = None\n",
    "train_iter = NewsData(data_path='data/Eluvio_DS_Challenge.csv', votes_threshold=10)\n",
    "train_dataset = list(train_iter)\n",
    "num_train = int(len(train_dataset) * 0.8)\n",
    "split_train_, split_valid_ = \\\n",
    "    random_split(train_dataset, [num_train, len(train_dataset) - num_train])\n",
    "\n",
    "train_dataloader = DataLoader(split_train_, batch_size=BATCH_SIZE,\n",
    "                              shuffle=True, collate_fn=collate_batch)\n",
    "valid_dataloader = DataLoader(split_valid_, batch_size=BATCH_SIZE,\n",
    "                              shuffle=True, collate_fn=collate_batch)\n",
    "# test_dataloader = DataLoader(test_dataset, batch_size=BATCH_SIZE,\n",
    "#                              shuffle=True, collate_fn=collate_batch)\n",
    "\n",
    "for epoch in range(1, EPOCHS + 1):\n",
    "    epoch_start_time = time.time()\n",
    "    train(train_dataloader)\n",
    "    accu_val = evaluate(valid_dataloader)\n",
    "    if total_accu is not None and total_accu > accu_val:\n",
    "      scheduler.step()\n",
    "    else:\n",
    "       total_accu = accu_val\n",
    "    print('-' * 59)\n",
    "    print('| end of epoch {:3d} | time: {:5.2f}s | '\n",
    "          'valid accuracy {:8.3f} '.format(epoch,\n",
    "                                           time.time() - epoch_start_time,\n",
    "                                           accu_val))\n",
    "    print('-' * 59)"
   ]
  },
  {
   "cell_type": "code",
   "execution_count": null,
   "metadata": {},
   "outputs": [],
   "source": []
  }
 ],
 "metadata": {
  "kernelspec": {
   "display_name": "asheesh",
   "language": "python",
   "name": "asheesh"
  },
  "language_info": {
   "codemirror_mode": {
    "name": "ipython",
    "version": 3
   },
   "file_extension": ".py",
   "mimetype": "text/x-python",
   "name": "python",
   "nbconvert_exporter": "python",
   "pygments_lexer": "ipython3",
   "version": "3.6.8"
  }
 },
 "nbformat": 4,
 "nbformat_minor": 4
}
